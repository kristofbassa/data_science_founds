{
 "cells": [
  {
   "cell_type": "markdown",
   "metadata": {},
   "source": [
    "<center>\n",
    "    <img src=\"https://cf-courses-data.s3.us.cloud-object-storage.appdomain.cloud/IBMDeveloperSkillsNetwork-DS0105EN-SkillsNetwork/labs/Module2/images/SN_web_lightmode.png\" width=\"300\" alt=\"cognitiveclass.ai logo\">\n",
    "</center>\n"
   ]
  },
  {
   "cell_type": "markdown",
   "metadata": {
    "tags": []
   },
   "source": [
    "#### Add your code below following the instructions given in the course\n"
   ]
  },
  {
   "cell_type": "markdown",
   "metadata": {},
   "source": [
    "# Data science"
   ]
  },
  {
   "cell_type": "markdown",
   "metadata": {},
   "source": [
    "## In this notebook I am goning to introduce some samples for data science languages libraries and tools."
   ]
  },
  {
   "cell_type": "markdown",
   "metadata": {},
   "source": [
    "### Data science languages:\n",
    "1. R\n",
    "2. python\n",
    "3. SQL"
   ]
  },
  {
   "cell_type": "markdown",
   "metadata": {},
   "source": [
    "### Data science libraries\n",
    "#### Python:\n",
    "1. Numpy\n",
    "2. Pandas\n",
    "3. Matplotlib\n",
    "4. Seaborn\n",
    "5. TensorFlow\n",
    "6. PyTorch\n",
    "#### R:\n",
    "1. dplry\n",
    "2. ggplot2\n",
    "3. caret"
   ]
  },
  {
   "cell_type": "markdown",
   "metadata": {},
   "source": [
    "| Tool               | Description                                     |\n",
    "|--------------------|-------------------------------------------------|\n",
    "| Python             | A versatile programming language widely used for data manipulation, analysis, and machine learning. |\n",
    "| R                  | A statistical programming language for data analysis and visualization, popular in academia and research. |\n",
    "| Jupyter Notebook   | An interactive environment for data science that allows you to create and share documents containing live code, equations, visualizations, and narrative text. |\n",
    "| TensorFlow         | An open-source machine learning framework developed by Google for building and training deep learning models. |\n",
    "| scikit-learn       | A machine learning library for Python that provides simple and efficient tools for data analysis and modeling. |\n"
   ]
  },
  {
   "cell_type": "markdown",
   "metadata": {},
   "source": [
    "# Arithmetic Expressions Examples\n",
    "\n",
    "Arithmetic expressions are fundamental mathematical statements that involve operations such as addition, subtraction, multiplication, and division. In this notebook, we will explore various examples of arithmetic expressions and how to evaluate them in Python.\n",
    "\n",
    "Example:\n",
    "\n",
    "```python\n",
    "result = 10 + 5\n",
    "print(\"10 + 5 =\", result)"
   ]
  },
  {
   "cell_type": "code",
   "execution_count": 1,
   "metadata": {},
   "outputs": [
    {
     "name": "stdout",
     "output_type": "stream",
     "text": [
      "Arithmetic expression code examples:\n",
      "10 + 5 =  15\n",
      "10 * 5 =  50\n"
     ]
    }
   ],
   "source": [
    "print(\"Arithmetic expression code examples:\")\n",
    "\n",
    "add_result=10+5\n",
    "print(\"10 + 5 = \", add_result)\n",
    "\n",
    "multipl_result=10*5\n",
    "print(\"10 * 5 = \", multipl_result)"
   ]
  },
  {
   "cell_type": "code",
   "execution_count": 3,
   "metadata": {},
   "outputs": [
    {
     "name": "stdout",
     "output_type": "stream",
     "text": [
      "180 minutes is equal to 3.0 hours\n"
     ]
    }
   ],
   "source": [
    "def minutes_to_hours(minutes):\n",
    "    hours = minutes / 60\n",
    "    return hours\n",
    "\n",
    "# Example:\n",
    "minutes = 180  # Replace with the number of minutes you want to convert\n",
    "hours = minutes_to_hours(minutes)\n",
    "print(f\"{minutes} minutes is equal to {hours} hours\")"
   ]
  },
  {
   "cell_type": "markdown",
   "metadata": {},
   "source": [
    "## Objectives\n",
    "\n",
    "- Learn how to use Jupyter Notebook.\n",
    "- Practice writing Markdown.\n",
    "- Insert code cells and execute code.\n",
    "- Save and export Jupyter Notebooks.\n"
   ]
  },
  {
   "cell_type": "markdown",
   "metadata": {},
   "source": [
    "#### Autrhor:\n",
    "##### Kristóf Bassa"
   ]
  },
  {
   "cell_type": "markdown",
   "metadata": {},
   "source": []
  }
 ],
 "metadata": {
  "kernelspec": {
   "display_name": "Python 3",
   "language": "python",
   "name": "python3"
  },
  "language_info": {
   "codemirror_mode": {
    "name": "ipython",
    "version": 3
   },
   "file_extension": ".py",
   "mimetype": "text/x-python",
   "name": "python",
   "nbconvert_exporter": "python",
   "pygments_lexer": "ipython3",
   "version": "3.10.8"
  }
 },
 "nbformat": 4,
 "nbformat_minor": 4
}
